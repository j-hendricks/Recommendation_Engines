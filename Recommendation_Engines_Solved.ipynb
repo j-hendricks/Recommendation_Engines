{
  "nbformat": 4,
  "nbformat_minor": 0,
  "metadata": {
    "colab": {
      "provenance": []
    },
    "kernelspec": {
      "name": "python3",
      "display_name": "Python 3"
    },
    "language_info": {
      "name": "python"
    }
  },
  "cells": [
    {
      "cell_type": "markdown",
      "source": [
        "# Mini Project: Recommendation Engines\n",
        "\n",
        "Recommendation engines are algorithms designed to provide personalized suggestions or recommendations to users. These systems analyze user behavior, preferences, and interactions with items (products, movies, music, articles, etc.) to predict and offer items that users are likely to be interested in. Recommendation engines play a crucial role in enhancing user experience, driving engagement, and increasing conversion rates in various applications, including e-commerce, entertainment, content platforms, and more.\n",
        "\n",
        "There are generally two approaches taken in collaborative filtering and content-based recommendation engines:\n",
        "\n",
        "**1. Collaborative Filtering:**\n",
        "Collaborative Filtering is a popular approach to building recommendation systems that leverages the collective behavior of users to make personalized recommendations. It is based on the idea that users who have agreed in the past will likely agree in the future. There are two main types of collaborative filtering:\n",
        "\n",
        "- **User-based Collaborative Filtering:** This method finds users similar to the target user based on their past interactions (e.g., ratings or purchases). It then recommends items that similar users have liked but the target user has not interacted with yet.\n",
        "\n",
        "- **Item-based Collaborative Filtering:** In this approach, the system identifies similar items based on user interactions. It recommends items that are similar to the ones the target user has already liked or interacted with.\n",
        "\n",
        "Collaborative filtering does not require any explicit information about items but relies on the similarity between users or items. It is effective in capturing complex patterns and can provide serendipitous recommendations. However, it suffers from the cold-start problem (i.e., difficulty in recommending to new users or items with no interactions) and scalability challenges in large datasets.\n",
        "\n",
        "**2. Content-Based Recommendation:**\n",
        "Content-based recommendation is an alternative approach to building recommendation systems that focuses on the attributes or features of items and users. It leverages the characteristics of items to make recommendations. The key steps involved in content-based recommendation are:\n",
        "\n",
        "- **Feature Extraction:** For each item, relevant features are extracted. For movies, these features could be genre, director, actors, and plot summary.\n",
        "\n",
        "- **User Profile:** A user profile is created based on the items they have interacted with in the past. The user profile contains the weighted importance of features based on their interactions.\n",
        "\n",
        "- **Similarity Calculation:** The similarity between items or between items and the user profile is calculated using similarity metrics like cosine similarity or Euclidean distance.\n",
        "\n",
        "- **Recommendation:** Items that are most similar to the user profile are recommended to the user.\n",
        "\n",
        "Content-based recommendation systems are less affected by the cold-start problem as they can still recommend items based on their features. They are also more interpretable as they rely on item attributes. However, they may miss out on providing serendipitous recommendations and can be limited by the quality of feature extraction and user profiles.\n",
        "\n",
        "**Choosing Between Collaborative Filtering and Content-Based:**\n",
        "Both collaborative filtering and content-based approaches have their strengths and weaknesses. The choice between them depends on the specific requirements of the recommendation system, the type of data available, and the user base. Hybrid approaches that combine collaborative filtering and content-based techniques are also common, aiming to leverage the strengths of both methods and mitigate their weaknesses."
      ],
      "metadata": {
        "id": "fyXucUekO19i"
      }
    },
    {
      "cell_type": "markdown",
      "source": [
        "In this mini-project, you'll be building both content based and collaborative filtering engines for the [MovieLens 25M dataset](https://grouplens.org/datasets/movielens/25m/). The MovieLens 25M dataset is one of the most widely used and popular datasets for building and evaluating recommendation systems. It is provided by the GroupLens Research project, which collects and studies datasets related to movie ratings and recommendations. The MovieLens 25M dataset contains movie ratings and other related information contributed by users of the MovieLens website.\n",
        "\n",
        "**Dataset Details:**\n",
        "- **Size:** The dataset contains approximately 25 million movie ratings.\n",
        "- **Users:** It includes ratings from over 162,000 users.\n",
        "- **Movies:** The dataset consists of ratings for more than 62,000 movies.\n",
        "- **Ratings:** The ratings are provided on a scale of 1 to 5, where 1 is the lowest rating and 5 is the highest.\n",
        "- **Timestamps:** Each rating is associated with a timestamp, indicating when the rating was given.\n",
        "\n",
        "**Data Files:**\n",
        "The dataset is usually split into three CSV files:\n",
        "\n",
        "1. **movies.csv:** Contains information about movies, including the movie ID, title, genres, and release year.\n",
        "   - Columns: movieId, title, genres\n",
        "\n",
        "2. **ratings.csv:** Contains movie ratings provided by users, including the user ID, movie ID, rating, and timestamp.\n",
        "   - Columns: userId, movieId, rating, timestamp\n",
        "\n",
        "3. **tags.csv:** Contains user-generated tags for movies, including the user ID, movie ID, tag, and timestamp.\n",
        "   - Columns: userId, movieId, tag, timestamp"
      ],
      "metadata": {
        "id": "TYuE9O6I2uRY"
      }
    },
    {
      "cell_type": "markdown",
      "source": [
        "First, import all the libraries you'll need."
      ],
      "metadata": {
        "id": "DN0qzP-cRlMo"
      }
    },
    {
      "cell_type": "code",
      "execution_count": 2,
      "metadata": {
        "id": "kLWR1DfQPakn"
      },
      "outputs": [],
      "source": [
        "import zipfile\n",
        "import numpy as np\n",
        "import pandas as pd\n",
        "from urllib.request import urlretrieve\n",
        "from sklearn.metrics.pairwise import cosine_similarity"
      ]
    },
    {
      "cell_type": "markdown",
      "source": [
        "Next, download the relevant components of the MoveLens dataset. Note, these instructions are roughly based on the colab [here](https://colab.research.google.com/github/google/eng-edu/blob/main/ml/recommendation-systems/recommendation-systems.ipynb?utm_source=ss-recommendation-systems&utm_campaign=colab-external&utm_medium=referral&utm_content=recommendation-systems#scrollTo=O3bcgduFo4s6)."
      ],
      "metadata": {
        "id": "iaG6vAKyREej"
      }
    },
    {
      "cell_type": "code",
      "source": [
        "print(\"Downloading movielens data...\")\n",
        "\n",
        "urlretrieve('http://files.grouplens.org/datasets/movielens/ml-100k.zip', 'movielens.zip')\n",
        "zip_ref = zipfile.ZipFile('movielens.zip', 'r')\n",
        "zip_ref.extractall()\n",
        "print(\"Done. Dataset contains:\")\n",
        "print(zip_ref.read('ml-100k/u.info'))\n",
        "\n",
        "ratings_cols = ['user_id', 'movie_id', 'rating', 'unix_timestamp']\n",
        "ratings = pd.read_csv(\n",
        "    'ml-100k/u.data', sep='\\t', names=ratings_cols, encoding='latin-1')\n",
        "\n",
        "# The movies file contains a binary feature for each genre.\n",
        "genre_cols = [\n",
        "    \"genre_unknown\", \"Action\", \"Adventure\", \"Animation\", \"Children\", \"Comedy\",\n",
        "    \"Crime\", \"Documentary\", \"Drama\", \"Fantasy\", \"Film-Noir\", \"Horror\",\n",
        "    \"Musical\", \"Mystery\", \"Romance\", \"Sci-Fi\", \"Thriller\", \"War\", \"Western\"\n",
        "]\n",
        "movies_cols = [\n",
        "    'movie_id', 'title', 'release_date', \"video_release_date\", \"imdb_url\"\n",
        "] + genre_cols\n",
        "movies = pd.read_csv(\n",
        "    'ml-100k/u.item', sep='|', names=movies_cols, encoding='latin-1')"
      ],
      "metadata": {
        "id": "-wCvx2ukPm-3",
        "outputId": "9452b2f1-ef3b-490d-f011-9fc7806b71d6",
        "colab": {
          "base_uri": "https://localhost:8080/"
        }
      },
      "execution_count": 3,
      "outputs": [
        {
          "output_type": "stream",
          "name": "stdout",
          "text": [
            "Downloading movielens data...\n",
            "Done. Dataset contains:\n",
            "b'943 users\\n1682 items\\n100000 ratings\\n'\n"
          ]
        }
      ]
    },
    {
      "cell_type": "markdown",
      "source": [
        "Before doing any kind of machine learning, it's always good to familiarize yourself with the datasets you'lll be working with.\n",
        "\n",
        "Here are your tasks:\n",
        "\n",
        "1. Spend some time familiarizing yourself with both the `movies` and `ratings` dataframes. How many unique user ids are present? How many unique movies are there?\n",
        "2. Create a new dataframe that merges the `movies` and `ratings` tables on 'movie_id'. Only keep the 'user_id', 'title', 'rating' fields in this new dataframe."
      ],
      "metadata": {
        "id": "pLAMVhnbR-Cy"
      }
    },
    {
      "cell_type": "code",
      "source": [
        "# Spend some time familiarizing yourself with both the movies and ratings\n",
        "# dataframes. How many unique user ids are present? How many unique movies\n",
        "# are there?\n",
        "number_of_movies = movies.nunique()['movie_id']\n",
        "number_of_users = ratings.nunique()['user_id']\n",
        "\n",
        "print(\"Number of Movies:\",number_of_movies)\n",
        "print(\"Number of Users:\",number_of_users)"
      ],
      "metadata": {
        "id": "vp7Tx7H_P5f2",
        "outputId": "744cbb6f-c919-44ee-f56a-b1e68262310d",
        "colab": {
          "base_uri": "https://localhost:8080/"
        }
      },
      "execution_count": 4,
      "outputs": [
        {
          "output_type": "stream",
          "name": "stdout",
          "text": [
            "Number of Movies: 1682\n",
            "Number of Users: 943\n"
          ]
        }
      ]
    },
    {
      "cell_type": "code",
      "source": [
        "# Drama and Comedy are the most common movie genres in the data\n",
        "import matplotlib.pyplot as plt\n",
        "movie_genres = movies[genre_cols]\n",
        "genre_frequency = movie_genres.sum().sort_values(ascending=False)\n",
        "plt.bar(genre_frequency.index,genre_frequency.values)\n",
        "plt.xticks(rotation=90)\n",
        "plt.title(\"Frequency of Each Movie Genre\")\n",
        "plt.show()"
      ],
      "metadata": {
        "id": "1qRKoLzXnhLj",
        "outputId": "40cafe27-24ca-474d-a683-fa3f35fc5668",
        "colab": {
          "base_uri": "https://localhost:8080/",
          "height": 548
        }
      },
      "execution_count": 5,
      "outputs": [
        {
          "output_type": "display_data",
          "data": {
            "text/plain": [
              "<Figure size 640x480 with 1 Axes>"
            ],
            "image/png": "[encoded data removed]"
          },
          "metadata": {}
        }
      ]
    },
    {
      "cell_type": "code",
      "source": [
        "# Merge movies and ratings dataframes\n",
        "merged_df = pd.merge(movies,ratings,left_on='movie_id',right_on='movie_id')\n",
        "movies_and_ratings = merged_df[['user_id','title','rating']]\n",
        "movies_and_ratings.head()"
      ],
      "metadata": {
        "id": "f6MrymMJRMjB",
        "outputId": "7d38c31a-a151-42dd-c2d4-d6faf876566e",
        "colab": {
          "base_uri": "https://localhost:8080/",
          "height": 207
        }
      },
      "execution_count": 6,
      "outputs": [
        {
          "output_type": "execute_result",
          "data": {
            "text/plain": [
              "   user_id             title  rating\n",
              "0      308  Toy Story (1995)       4\n",
              "1      287  Toy Story (1995)       5\n",
              "2      148  Toy Story (1995)       4\n",
              "3      280  Toy Story (1995)       4\n",
              "4       66  Toy Story (1995)       3"
            ],
            "text/html": [
              "\n",
              "  <div id=\"df-18d2a4a4-c72f-4739-9e7d-ec2477cb3013\" class=\"colab-df-container\">\n",
              "    <div>\n",
              "<style scoped>\n",
              "    .dataframe tbody tr th:only-of-type {\n",
              "        vertical-align: middle;\n",
              "    }\n",
              "\n",
              "    .dataframe tbody tr th {\n",
              "        vertical-align: top;\n",
              "    }\n",
              "\n",
              "    .dataframe thead th {\n",
              "        text-align: right;\n",
              "    }\n",
              "</style>\n",
              "<table border=\"1\" class=\"dataframe\">\n",
              "  <thead>\n",
              "    <tr style=\"text-align: right;\">\n",
              "      <th></th>\n",
              "      <th>user_id</th>\n",
              "      <th>title</th>\n",
              "      <th>rating</th>\n",
              "    </tr>\n",
              "  </thead>\n",
              "  <tbody>\n",
              "    <tr>\n",
              "      <th>0</th>\n",
              "      <td>308</td>\n",
              "      <td>Toy Story (1995)</td>\n",
              "      <td>4</td>\n",
              "    </tr>\n",
              "    <tr>\n",
              "      <th>1</th>\n",
              "      <td>287</td>\n",
              "      <td>Toy Story (1995)</td>\n",
              "      <td>5</td>\n",
              "    </tr>\n",
              "    <tr>\n",
              "      <th>2</th>\n",
              "      <td>148</td>\n",
              "      <td>Toy Story (1995)</td>\n",
              "      <td>4</td>\n",
              "    </tr>\n",
              "    <tr>\n",
              "      <th>3</th>\n",
              "      <td>280</td>\n",
              "      <td>Toy Story (1995)</td>\n",
              "      <td>4</td>\n",
              "    </tr>\n",
              "    <tr>\n",
              "      <th>4</th>\n",
              "      <td>66</td>\n",
              "      <td>Toy Story (1995)</td>\n",
              "      <td>3</td>\n",
              "    </tr>\n",
              "  </tbody>\n",
              "</table>\n",
              "</div>\n",
              "    <div class=\"colab-df-buttons\">\n",
              "\n",
              "  <div class=\"colab-df-container\">\n",
              "    <button class=\"colab-df-convert\" onclick=\"convertToInteractive('df-18d2a4a4-c72f-4739-9e7d-ec2477cb3013')\"\n",
              "            title=\"Convert this dataframe to an interactive table.\"\n",
              "            style=\"display:none;\">\n",
              "\n",
              "  <svg xmlns=\"http://www.w3.org/2000/svg\" height=\"24px\" viewBox=\"0 -960 960 960\">\n",
              "    <path d=\"M120-120v-720h720v720H120Zm60-500h600v-160H180v160Zm220 220h160v-160H400v160Zm0 220h160v-160H400v160ZM180-400h160v-160H180v160Zm440 0h160v-160H620v160ZM180-180h160v-160H180v160Zm440 0h160v-160H620v160Z\"/>\n",
              "  </svg>\n",
              "    </button>\n",
              "\n",
              "  <style>\n",
              "    .colab-df-container {\n",
              "      display:flex;\n",
              "      gap: 12px;\n",
              "    }\n",
              "\n",
              "    .colab-df-convert {\n",
              "      background-color: #E8F0FE;\n",
              "      border: none;\n",
              "      border-radius: 50%;\n",
              "      cursor: pointer;\n",
              "      display: none;\n",
              "      fill: #1967D2;\n",
              "      height: 32px;\n",
              "      padding: 0 0 0 0;\n",
              "      width: 32px;\n",
              "    }\n",
              "\n",
              "    .colab-df-convert:hover {\n",
              "      background-color: #E2EBFA;\n",
              "      box-shadow: 0px 1px 2px rgba(60, 64, 67, 0.3), 0px 1px 3px 1px rgba(60, 64, 67, 0.15);\n",
              "      fill: #174EA6;\n",
              "    }\n",
              "\n",
              "    .colab-df-buttons div {\n",
              "      margin-bottom: 4px;\n",
              "    }\n",
              "\n",
              "    [theme=dark] .colab-df-convert {\n",
              "      background-color: #3B4455;\n",
              "      fill: #D2E3FC;\n",
              "    }\n",
              "\n",
              "    [theme=dark] .colab-df-convert:hover {\n",
              "      background-color: #434B5C;\n",
              "      box-shadow: 0px 1px 3px 1px rgba(0, 0, 0, 0.15);\n",
              "      filter: drop-shadow(0px 1px 2px rgba(0, 0, 0, 0.3));\n",
              "      fill: #FFFFFF;\n",
              "    }\n",
              "  </style>\n",
              "\n",
              "    <script>\n",
              "      const buttonEl =\n",
              "        document.querySelector('#df-18d2a4a4-c72f-4739-9e7d-ec2477cb3013 button.colab-df-convert');\n",
              "      buttonEl.style.display =\n",
              "        google.colab.kernel.accessAllowed ? 'block' : 'none';\n",
              "\n",
              "      async function convertToInteractive(key) {\n",
              "        const element = document.querySelector('#df-18d2a4a4-c72f-4739-9e7d-ec2477cb3013');\n",
              "        const dataTable =\n",
              "          await google.colab.kernel.invokeFunction('convertToInteractive',\n",
              "                                                    [key], {});\n",
              "        if (!dataTable) return;\n",
              "\n",
              "        const docLinkHtml = 'Like what you see? Visit the ' +\n",
              "          '<a target=\"_blank\" href=https://colab.research.google.com/notebooks/data_table.ipynb>data table notebook</a>'\n",
              "          + ' to learn more about interactive tables.';\n",
              "        element.innerHTML = '';\n",
              "        dataTable['output_type'] = 'display_data';\n",
              "        await google.colab.output.renderOutput(dataTable, element);\n",
              "        const docLink = document.createElement('div');\n",
              "        docLink.innerHTML = docLinkHtml;\n",
              "        element.appendChild(docLink);\n",
              "      }\n",
              "    </script>\n",
              "  </div>\n",
              "\n",
              "\n",
              "<div id=\"df-713c7611-0ceb-44b5-ae5d-886c8d6403a6\">\n",
              "  <button class=\"colab-df-quickchart\" onclick=\"quickchart('df-713c7611-0ceb-44b5-ae5d-886c8d6403a6')\"\n",
              "            title=\"Suggest charts\"\n",
              "            style=\"display:none;\">\n",
              "\n",
              "<svg xmlns=\"http://www.w3.org/2000/svg\" height=\"24px\"viewBox=\"0 0 24 24\"\n",
              "     width=\"24px\">\n",
              "    <g>\n",
              "        <path d=\"M19 3H5c-1.1 0-2 .9-2 2v14c0 1.1.9 2 2 2h14c1.1 0 2-.9 2-2V5c0-1.1-.9-2-2-2zM9 17H7v-7h2v7zm4 0h-2V7h2v10zm4 0h-2v-4h2v4z\"/>\n",
              "    </g>\n",
              "</svg>\n",
              "  </button>\n",
              "\n",
              "<style>\n",
              "  .colab-df-quickchart {\n",
              "      --bg-color: #E8F0FE;\n",
              "      --fill-color: #1967D2;\n",
              "      --hover-bg-color: #E2EBFA;\n",
              "      --hover-fill-color: #174EA6;\n",
              "      --disabled-fill-color: #AAA;\n",
              "      --disabled-bg-color: #DDD;\n",
              "  }\n",
              "\n",
              "  [theme=dark] .colab-df-quickchart {\n",
              "      --bg-color: #3B4455;\n",
              "      --fill-color: #D2E3FC;\n",
              "      --hover-bg-color: #434B5C;\n",
              "      --hover-fill-color: #FFFFFF;\n",
              "      --disabled-bg-color: #3B4455;\n",
              "      --disabled-fill-color: #666;\n",
              "  }\n",
              "\n",
              "  .colab-df-quickchart {\n",
              "    background-color: var(--bg-color);\n",
              "    border: none;\n",
              "    border-radius: 50%;\n",
              "    cursor: pointer;\n",
              "    display: none;\n",
              "    fill: var(--fill-color);\n",
              "    height: 32px;\n",
              "    padding: 0;\n",
              "    width: 32px;\n",
              "  }\n",
              "\n",
              "  .colab-df-quickchart:hover {\n",
              "    background-color: var(--hover-bg-color);\n",
              "    box-shadow: 0 1px 2px rgba(60, 64, 67, 0.3), 0 1px 3px 1px rgba(60, 64, 67, 0.15);\n",
              "    fill: var(--button-hover-fill-color);\n",
              "  }\n",
              "\n",
              "  .colab-df-quickchart-complete:disabled,\n",
              "  .colab-df-quickchart-complete:disabled:hover {\n",
              "    background-color: var(--disabled-bg-color);\n",
              "    fill: var(--disabled-fill-color);\n",
              "    box-shadow: none;\n",
              "  }\n",
              "\n",
              "  .colab-df-spinner {\n",
              "    border: 2px solid var(--fill-color);\n",
              "    border-color: transparent;\n",
              "    border-bottom-color: var(--fill-color);\n",
              "    animation:\n",
              "      spin 1s steps(1) infinite;\n",
              "  }\n",
              "\n",
              "  @keyframes spin {\n",
              "    0% {\n",
              "      border-color: transparent;\n",
              "      border-bottom-color: var(--fill-color);\n",
              "      border-left-color: var(--fill-color);\n",
              "    }\n",
              "    20% {\n",
              "      border-color: transparent;\n",
              "      border-left-color: var(--fill-color);\n",
              "      border-top-color: var(--fill-color);\n",
              "    }\n",
              "    30% {\n",
              "      border-color: transparent;\n",
              "      border-left-color: var(--fill-color);\n",
              "      border-top-color: var(--fill-color);\n",
              "      border-right-color: var(--fill-color);\n",
              "    }\n",
              "    40% {\n",
              "      border-color: transparent;\n",
              "      border-right-color: var(--fill-color);\n",
              "      border-top-color: var(--fill-color);\n",
              "    }\n",
              "    60% {\n",
              "      border-color: transparent;\n",
              "      border-right-color: var(--fill-color);\n",
              "    }\n",
              "    80% {\n",
              "      border-color: transparent;\n",
              "      border-right-color: var(--fill-color);\n",
              "      border-bottom-color: var(--fill-color);\n",
              "    }\n",
              "    90% {\n",
              "      border-color: transparent;\n",
              "      border-bottom-color: var(--fill-color);\n",
              "    }\n",
              "  }\n",
              "</style>\n",
              "\n",
              "  <script>\n",
              "    async function quickchart(key) {\n",
              "      const quickchartButtonEl =\n",
              "        document.querySelector('#' + key + ' button');\n",
              "      quickchartButtonEl.disabled = true;  // To prevent multiple clicks.\n",
              "      quickchartButtonEl.classList.add('colab-df-spinner');\n",
              "      try {\n",
              "        const charts = await google.colab.kernel.invokeFunction(\n",
              "            'suggestCharts', [key], {});\n",
              "      } catch (error) {\n",
              "        console.error('Error during call to suggestCharts:', error);\n",
              "      }\n",
              "      quickchartButtonEl.classList.remove('colab-df-spinner');\n",
              "      quickchartButtonEl.classList.add('colab-df-quickchart-complete');\n",
              "    }\n",
              "    (() => {\n",
              "      let quickchartButtonEl =\n",
              "        document.querySelector('#df-713c7611-0ceb-44b5-ae5d-886c8d6403a6 button');\n",
              "      quickchartButtonEl.style.display =\n",
              "        google.colab.kernel.accessAllowed ? 'block' : 'none';\n",
              "    })();\n",
              "  </script>\n",
              "</div>\n",
              "\n",
              "    </div>\n",
              "  </div>\n"
            ],
            "application/vnd.google.colaboratory.intrinsic+json": {
              "type": "dataframe",
              "variable_name": "movies_and_ratings",
              "summary": "{\n  \"name\": \"movies_and_ratings\",\n  \"rows\": 100000,\n  \"fields\": [\n    {\n      \"column\": \"user_id\",\n      \"properties\": {\n        \"dtype\": \"number\",\n        \"std\": 266,\n        \"min\": 1,\n        \"max\": 943,\n        \"num_unique_values\": 943,\n        \"samples\": [\n          62,\n          468,\n          762\n        ],\n        \"semantic_type\": \"\",\n        \"description\": \"\"\n      }\n    },\n    {\n      \"column\": \"title\",\n      \"properties\": {\n        \"dtype\": \"category\",\n        \"num_unique_values\": 1664,\n        \"samples\": [\n          \"Madame Butterfly (1995)\",\n          \"Wrong Trousers, The (1993)\",\n          \"Breaking the Waves (1996)\"\n        ],\n        \"semantic_type\": \"\",\n        \"description\": \"\"\n      }\n    },\n    {\n      \"column\": \"rating\",\n      \"properties\": {\n        \"dtype\": \"number\",\n        \"std\": 1,\n        \"min\": 1,\n        \"max\": 5,\n        \"num_unique_values\": 5,\n        \"samples\": [\n          5,\n          1,\n          3\n        ],\n        \"semantic_type\": \"\",\n        \"description\": \"\"\n      }\n    }\n  ]\n}"
            }
          },
          "metadata": {},
          "execution_count": 6
        }
      ]
    },
    {
      "cell_type": "markdown",
      "source": [
        "As mentioned in the introduction, content-Based Filtering is a recommendation engine approach that focuses on the attributes or features of items (products, movies, music, articles, etc.) and leverages these features to make personalized recommendations. The underlying idea is to match the characteristics of items with the preferences of users to suggest items that align with their interests. Content-based filtering is particularly useful when explicit user-item interactions (e.g., ratings or purchases) are sparse or unavailable.\n",
        "\n",
        "**Key Steps in Content-Based Filtering:**\n",
        "\n",
        "1. **Feature Extraction:**\n",
        "   - For each item, relevant features are extracted. These features are typically descriptive attributes that can be represented numerically, such as genre, director, actors, author, publication date, and keywords.\n",
        "   - In the case of text-based items, natural language processing techniques may be used to extract features like TF-IDF (Term Frequency-Inverse Document Frequency) scores.\n",
        "\n",
        "2. **User Profile Creation:**\n",
        "   - A user profile is created based on the items they have interacted with in the past. The user profile contains the weighted importance of features based on their interactions.\n",
        "   - For example, if a user has watched several action movies, the action genre feature would receive a higher weight in their profile.\n",
        "\n",
        "3. **Similarity Calculation:**\n",
        "   - The similarity between items or between items and the user profile is calculated using similarity metrics like cosine similarity, Euclidean distance, or Pearson correlation.\n",
        "   - Cosine similarity is commonly used as it measures the cosine of the angle between two vectors, which represents their similarity.\n",
        "\n",
        "4. **Recommendation:**\n",
        "   - Items that are most similar to the user profile are recommended to the user. These are items whose features have the highest similarity scores with the user profile.\n",
        "   - The recommended items are presented as a list sorted by their similarity scores.\n",
        "\n",
        "**Advantages of Content-Based Filtering:**\n",
        "1. **No Cold-Start Problem:** Content-based filtering can make recommendations even for new users with no historical interactions because it relies on item features rather than user history.\n",
        "\n",
        "2. **User Independence:** The recommendations are based solely on the features of items and do not require knowledge of other users' preferences or behavior.\n",
        "\n",
        "3. **Transparency:** Content-based recommendations are interpretable, as they depend on the features of items, making it easier for users to understand why specific items are recommended.\n",
        "\n",
        "4. **Serendipity:** Content-based filtering can recommend items with characteristics not seen before by the user, leading to serendipitous discoveries.\n",
        "\n",
        "5. **Diversity in Recommendations:** The method can offer diverse recommendations since it suggests items with different feature combinations.\n",
        "\n",
        "**Limitations of Content-Based Filtering:**\n",
        "1. **Limited Discovery:** Content-based filtering may struggle to recommend items outside the scope of users' historical interactions or interests.\n",
        "\n",
        "2. **Over-Specialization:** Users may receive recommendations that are too similar to their previous choices, leading to a lack of exposure to new item categories.\n",
        "\n",
        "3. **Dependency on Feature Quality:** The quality and relevance of item features significantly influence the quality of recommendations.\n",
        "\n",
        "4. **Limited for Cold Items:** Content-based filtering can struggle to recommend new items with limited feature information."
      ],
      "metadata": {
        "id": "_U44W0TMT3qf"
      }
    },
    {
      "cell_type": "markdown",
      "source": [
        "Here is your task:\n",
        "\n",
        "1. Write a function that takes in a user id and the dataframe you created before that contains 'user_id', 'title', and 'rating'. The function should return content-based recommendations for this user. Here are steps you can take:\n",
        "\n",
        "  A. Get the user's rated movies\n",
        "\n",
        "  B. Create a TF-IDF matrix using movie genres. Note, this can be extracted from the `movies` dataframe.\n",
        "\n",
        "  C. Compute the cosine similarity between movie genres. Use the [cosine_similarity](https://scikit-learn.org/stable/modules/generated/sklearn.metrics.pairwise.cosine_similarity.html) function.\n",
        "\n",
        "  D. Get the indices of similar movies to those rated by the user based on cosine similarity. Keep only the top 5.\n",
        "\n",
        "  E. Remove duplicates and movies already rated by the user."
      ],
      "metadata": {
        "id": "sbJGD7j7Ui-8"
      }
    },
    {
      "cell_type": "code",
      "source": [
        "import numpy as np\n",
        "number_of_genres = len(genre_cols)\n",
        "movies.index = movies.title\n",
        "# Content-Based Filtering using Movie Genres\n",
        "def content_based_recommendation(user_id, df):\n",
        "  # Get the user's rated movies\n",
        "  rated_movies = df[df['user_id'] == user_id].loc[df['rating'] >= 4,'title']\n",
        "  rated_movies = list(rated_movies.values)\n",
        "  # Create a TF-IDF matrix using movie genres\n",
        "  tf_idf_df = movies.copy()[genre_cols]\n",
        "  tf_idf_df.index = movies.copy()['title']\n",
        "  tf_idf_df['total_genres_in_movie'] = tf_idf_df.sum(axis=1)\n",
        "  genre_count = tf_idf_df.sum(axis=0)\n",
        "  for genre in genre_cols:\n",
        "    tf_idf_df[genre] = (tf_idf_df[genre] / tf_idf_df['total_genres_in_movie']) * np.log(number_of_movies / genre_count[genre])\n",
        "  tf_idf_df.drop(columns='total_genres_in_movie',inplace=True)\n",
        "  # Compute the cosine similarity between movie genres\n",
        "  similarities = cosine_similarity(tf_idf_df)\n",
        "  # Get the indices of the similar movies based on cosine similarity\n",
        "  similarity_df = pd.DataFrame(similarities,columns = tf_idf_df.index, index = tf_idf_df.index)\n",
        "  main_df = similarity_df.loc[rated_movies]\n",
        "  all_movies = main_df.columns\n",
        "  all_rated = main_df.index\n",
        "  new_list = []\n",
        "  for m in all_movies:\n",
        "    if m not in all_rated:\n",
        "      new_list.append(m)\n",
        "  main_df2 = main_df[new_list]\n",
        "  most_similar = main_df2.max()\n",
        "  # Remove duplicates and movies already rated by the user\n",
        "  top5 = most_similar.iloc[0:5].index\n",
        "  return top5"
      ],
      "metadata": {
        "id": "JwBQSC-POTzn",
        "outputId": "a28614bd-9252-4108-d9ee-277a75d1534d",
        "colab": {
          "base_uri": "https://localhost:8080/"
        }
      },
      "execution_count": 76,
      "outputs": [
        {
          "output_type": "execute_result",
          "data": {
            "text/plain": [
              "Index(['GoldenEye (1995)', 'Four Rooms (1995)',\n",
              "       'Shanghai Triad (Yao a yao yao dao waipo qiao) (1995)',\n",
              "       'Richard III (1995)', 'Mighty Aphrodite (1995)'],\n",
              "      dtype='object', name='title')"
            ]
          },
          "metadata": {},
          "execution_count": 76
        }
      ]
    },
    {
      "cell_type": "code",
      "source": [],
      "metadata": {
        "colab": {
          "base_uri": "https://localhost:8080/"
        },
        "id": "VQ7EEh9hgJK8",
        "outputId": "a3565598-8e31-45f8-cb4b-697e6ca3d9a3"
      },
      "execution_count": 70,
      "outputs": [
        {
          "output_type": "execute_result",
          "data": {
            "text/plain": [
              "True"
            ]
          },
          "metadata": {},
          "execution_count": 70
        }
      ]
    },
    {
      "cell_type": "markdown",
      "source": [
        "The key idea behind collaborative filtering is that users who have agreed in the past will likely agree in the future. Instead of relying on item attributes or user profiles, collaborative filtering identifies patterns of user behavior and item preferences from the interactions present in the data.\n",
        "\n",
        "**Types of Collaborative Filtering:**\n",
        "There are two main types of collaborative filtering:\n",
        "\n",
        "**Collaborative Filtering Process:**\n",
        "The collaborative filtering process typically involves the following steps:\n",
        "\n",
        "1. **Data Collection:**\n",
        "   - Gather data on user-item interactions, such as movie ratings, product purchases, or article clicks.\n",
        "\n",
        "2. **User-Item Matrix:**\n",
        "   - Organize the data into a user-item matrix, where rows represent users, columns represent items, and the entries contain the users' interactions (e.g., ratings).\n",
        "\n",
        "3. **Similarity Calculation:**\n",
        "   - Calculate the similarity between users or items using similarity metrics such as cosine similarity, Pearson correlation, or Jaccard similarity.\n",
        "   - For user-based collaborative filtering, user similarities are calculated, and for item-based collaborative filtering, item similarities are calculated.\n",
        "\n",
        "4. **Neighborhood Selection:**\n",
        "   - For each user or item, select the most similar users or items as the neighborhood.\n",
        "   - The size of the neighborhood (the number of similar users or items to consider) is an important parameter to control the system's behavior.\n",
        "\n",
        "5. **Prediction Generation:**\n",
        "   - Predict the ratings for items that the target user has not yet interacted with by combining the ratings of neighboring users or items.\n",
        "\n",
        "6. **Recommendation Generation:**\n",
        "   - Recommend items with the highest predicted ratings to the target user.\n",
        "\n",
        "**Advantages of Collaborative Filtering using User-Item Interactions:**\n",
        "- Collaborative filtering is based solely on user interactions and does not require knowledge of item attributes, making it useful for cases where item data is sparse or unavailable.\n",
        "- It can provide serendipitous recommendations, suggesting items that users may not have discovered on their own.\n",
        "- Collaborative filtering can be applied in various domains, including e-commerce, music, movie, and content recommendations.\n",
        "\n",
        "**Limitations of Collaborative Filtering:**\n",
        "- The cold-start problem: Collaborative filtering struggles to recommend to new users or items with no or limited interaction history.\n",
        "- It may suffer from sparsity when data is limited or when users have only interacted with a small subset of items.\n",
        "- Scalability issues can arise with large datasets and an increasing number of users or items."
      ],
      "metadata": {
        "id": "2NNt3gHLYDxU"
      }
    },
    {
      "cell_type": "markdown",
      "source": [
        "Here is your task:\n",
        "\n",
        "1. Write a function that takes in a user id and the dataframe you created before that contains 'user_id', 'title', and 'rating'. The function should return collaborative filtering recommendations for this user based on a user-item interaction matrix. Here are steps you can take:\n",
        "\n",
        "  A. Create the user-item matrix using Pandas' [pivot_table](https://pandas.pydata.org/docs/reference/api/pandas.pivot_table.html).\n",
        "\n",
        "  B. Fill missing values with zeros in this matrix.\n",
        "\n",
        "  C. Calculate user-user similarity matrix using cosine similarity.\n",
        "\n",
        "  D. Get the array of similarity scores of the target user with all other users from the similarity matrix.\n",
        "\n",
        "  E. Extract, say the the top 5 most similar users (excluding the target user).\n",
        "\n",
        "  F. Generate movie recommendations based on the most similar users.\n",
        "\n",
        "  G. Remove duplicate movies recommendations."
      ],
      "metadata": {
        "id": "ks4mWyCaYVNY"
      }
    },
    {
      "cell_type": "code",
      "source": [
        "# Collaborative Filtering using User-Item Interactions\n",
        "def collaborative_filtering_recommendation(user_id, df,N):\n",
        "  # Create the user-item matrix\n",
        "\n",
        "  table = pd.pivot_table(df, values=['rating'], index=['user_id'], columns=['title'],\n",
        "                       aggfunc={'rating': \"mean\"})\n",
        "  # Fill missing values with 0 (indicating no rating)\n",
        "  table.fillna(0,inplace=True)\n",
        "  # Calculate user-user similarity matrix using cosine similarity\n",
        "  similarities = cosine_similarity(table)\n",
        "  # Get the similarity scores of the target user with all other users\n",
        "  similarity_df = pd.DataFrame(similarities, columns=table.index, index=table.index)\n",
        "  scores = similarity_df.loc[:,user_id]\n",
        "  scores.drop([user_id],axis=0,inplace=True)\n",
        "  # Find the top N most similar users (excluding the target user)\n",
        "  scores = scores.sort_values(ascending=False)\n",
        "  top_N = scores.iloc[0:N].index\n",
        "  # Generate movie recommendations based on the most similar users\n",
        "  recommended_movies_list = []\n",
        "  for user in top_N:\n",
        "    user_table = table.loc[user]\n",
        "    ranked = user_table.sort_values(ascending=False)\n",
        "    for _, rec_movie in ranked.index[0:2]:\n",
        "      recommended_movies_list.append(rec_movie)\n",
        "  # Remove duplicates from recommendations\n",
        "  recommended_movies_list = set(recommended_movies_list)\n",
        "  return recommended_movies_list\n",
        "\n",
        "collaborative_filtering_recommendation(308,movies_and_ratings,5)"
      ],
      "metadata": {
        "id": "BqZPgKRDWf-c",
        "colab": {
          "base_uri": "https://localhost:8080/"
        },
        "outputId": "0cfb6fa8-2e8e-4a76-dcd6-a398998ff4f3"
      },
      "execution_count": 44,
      "outputs": [
        {
          "output_type": "execute_result",
          "data": {
            "text/plain": [
              "{'Bridge on the River Kwai, The (1957)',\n",
              " 'Citizen Kane (1941)',\n",
              " 'Hunchback of Notre Dame, The (1996)',\n",
              " 'Leaving Las Vegas (1995)',\n",
              " 'Manhattan (1979)',\n",
              " 'Princess Bride, The (1987)',\n",
              " 'Raging Bull (1980)',\n",
              " 'Rebel Without a Cause (1955)',\n",
              " 'Shining, The (1980)',\n",
              " 'Some Folks Call It a Sling Blade (1993)'}"
            ]
          },
          "metadata": {},
          "execution_count": 44
        }
      ]
    },
    {
      "cell_type": "markdown",
      "source": [
        "Now, test your recommendations engines! Select a few user ids and generate recommendations using both functions you've written. Are the recommendations similar? Do the recommendations make sense?"
      ],
      "metadata": {
        "id": "-Jj883VAZRNe"
      }
    },
    {
      "cell_type": "code",
      "source": [
        "# Test the recommendation engines\n",
        "random_user_id = movies_and_ratings['user_id'].sample(1,random_state=42).values[0]\n",
        "N = 5\n",
        "content_based_recommendations = content_based_recommendation(random_user_id,movies_and_ratings)\n",
        "collaborative_filtering_recommendations = collaborative_filtering_recommendation(random_user_id,movies_and_ratings,N)"
      ],
      "metadata": {
        "id": "kt9nuOTNJXz8"
      },
      "execution_count": 77,
      "outputs": []
    },
    {
      "cell_type": "code",
      "source": [
        "print(\"Similar Movies You May Enjoy:\\n\")\n",
        "for rec in content_based_recommendations:\n",
        "  print(rec)\n",
        "print(\"\\n********************\\n\")\n",
        "print(\"What Similar Viewers Also Enjoyed:\\n\")\n",
        "for rec in collaborative_filtering_recommendations:\n",
        "  print(rec)"
      ],
      "metadata": {
        "colab": {
          "base_uri": "https://localhost:8080/"
        },
        "id": "0GNOA6RXY0fm",
        "outputId": "22069adc-3115-4893-ea39-b78288d80b31"
      },
      "execution_count": 79,
      "outputs": [
        {
          "output_type": "stream",
          "name": "stdout",
          "text": [
            "Similar Movies You May Enjoy:\n",
            "\n",
            "Toy Story (1995)\n",
            "GoldenEye (1995)\n",
            "Four Rooms (1995)\n",
            "Get Shorty (1995)\n",
            "Copycat (1995)\n",
            "\n",
            "********************\n",
            "\n",
            "What Similar Viewers Also Enjoyed:\n",
            "\n",
            "African Queen, The (1951)\n",
            "Schindler's List (1993)\n",
            "What's Love Got to Do with It (1993)\n",
            "Much Ado About Nothing (1993)\n",
            "Hunchback of Notre Dame, The (1996)\n",
            "Rebel Without a Cause (1955)\n",
            "Aliens (1986)\n",
            "Cool Hand Luke (1967)\n",
            "Great Escape, The (1963)\n",
            "Godfather: Part II, The (1974)\n"
          ]
        }
      ]
    },
    {
      "cell_type": "code",
      "source": [
        "# Given the user's preferences for Drama and Thriller's, recommendations like GoldenEye and Schindler's List seem reasonable. However, one of the top choises for content-based recommendations was \"Toy Story\",\n",
        "# despite the user having rated no animation movies above 3 stars. However, the user gave 5 starts to Wizard of Oz and ET, which could explain why Toy Story was in the top 5 recommendations for the user.\n",
        "movies_enjoyed = movies_and_ratings.loc[(movies_and_ratings.user_id == random_user_id) & (movies_and_ratings.rating > 3)].title.unique()\n",
        "movies.loc[movies_enjoyed,list(genre_cols)].sum(axis=0).sort_values(ascending=False)"
      ],
      "metadata": {
        "colab": {
          "base_uri": "https://localhost:8080/"
        },
        "id": "y5BEog8zh1GG",
        "outputId": "539123c1-7a33-40e9-8125-9288a0fef4ea"
      },
      "execution_count": 91,
      "outputs": [
        {
          "output_type": "execute_result",
          "data": {
            "text/plain": [
              "Drama            55\n",
              "Thriller         30\n",
              "War              28\n",
              "Action           24\n",
              "Romance          17\n",
              "Adventure        11\n",
              "Crime             9\n",
              "Comedy            8\n",
              "Sci-Fi            7\n",
              "Mystery           6\n",
              "Western           5\n",
              "Horror            5\n",
              "Children          3\n",
              "Film-Noir         3\n",
              "Musical           3\n",
              "Fantasy           1\n",
              "Documentary       0\n",
              "Animation         0\n",
              "genre_unknown     0\n",
              "dtype: int64"
            ]
          },
          "metadata": {},
          "execution_count": 91
        }
      ]
    },
    {
      "cell_type": "code",
      "source": [
        "movies.loc['Toy Story (1995)']"
      ],
      "metadata": {
        "colab": {
          "base_uri": "https://localhost:8080/"
        },
        "id": "C-4IwP5SkAXV",
        "outputId": "8bfe1066-0a40-4595-f73f-c1f97b0db300"
      },
      "execution_count": 92,
      "outputs": [
        {
          "output_type": "execute_result",
          "data": {
            "text/plain": [
              "movie_id                                                              1\n",
              "title                                                  Toy Story (1995)\n",
              "release_date                                                01-Jan-1995\n",
              "video_release_date                                                  NaN\n",
              "imdb_url              http://us.imdb.com/M/title-exact?Toy%20Story%2...\n",
              "genre_unknown                                                         0\n",
              "Action                                                                0\n",
              "Adventure                                                             0\n",
              "Animation                                                             1\n",
              "Children                                                              1\n",
              "Comedy                                                                1\n",
              "Crime                                                                 0\n",
              "Documentary                                                           0\n",
              "Drama                                                                 0\n",
              "Fantasy                                                               0\n",
              "Film-Noir                                                             0\n",
              "Horror                                                                0\n",
              "Musical                                                               0\n",
              "Mystery                                                               0\n",
              "Romance                                                               0\n",
              "Sci-Fi                                                                0\n",
              "Thriller                                                              0\n",
              "War                                                                   0\n",
              "Western                                                               0\n",
              "Name: Toy Story (1995), dtype: object"
            ]
          },
          "metadata": {},
          "execution_count": 92
        }
      ]
    },
    {
      "cell_type": "code",
      "source": [
        "children_movies = movies[(movies.title.isin(movies_enjoyed)) & (movies['Children']==1)].index.tolist()\n",
        "movies_and_ratings[(movies_and_ratings.user_id == random_user_id) & (movies_and_ratings.title.isin(children_movies))]"
      ],
      "metadata": {
        "colab": {
          "base_uri": "https://localhost:8080/",
          "height": 144
        },
        "id": "xBiDxOpjkhI8",
        "outputId": "be8cc10b-4a1f-4239-8042-5e52da5119bd"
      },
      "execution_count": 108,
      "outputs": [
        {
          "output_type": "execute_result",
          "data": {
            "text/plain": [
              "       user_id                              title  rating\n",
              "18805      788           Wizard of Oz, The (1939)       5\n",
              "58738      788  E.T. the Extra-Terrestrial (1982)       5\n",
              "81252      788                       Fluke (1995)       4"
            ],
            "text/html": [
              "\n",
              "  <div id=\"df-0674cd17-f6da-4f01-995b-2f3f2b442d4a\" class=\"colab-df-container\">\n",
              "    <div>\n",
              "<style scoped>\n",
              "    .dataframe tbody tr th:only-of-type {\n",
              "        vertical-align: middle;\n",
              "    }\n",
              "\n",
              "    .dataframe tbody tr th {\n",
              "        vertical-align: top;\n",
              "    }\n",
              "\n",
              "    .dataframe thead th {\n",
              "        text-align: right;\n",
              "    }\n",
              "</style>\n",
              "<table border=\"1\" class=\"dataframe\">\n",
              "  <thead>\n",
              "    <tr style=\"text-align: right;\">\n",
              "      <th></th>\n",
              "      <th>user_id</th>\n",
              "      <th>title</th>\n",
              "      <th>rating</th>\n",
              "    </tr>\n",
              "  </thead>\n",
              "  <tbody>\n",
              "    <tr>\n",
              "      <th>18805</th>\n",
              "      <td>788</td>\n",
              "      <td>Wizard of Oz, The (1939)</td>\n",
              "      <td>5</td>\n",
              "    </tr>\n",
              "    <tr>\n",
              "      <th>58738</th>\n",
              "      <td>788</td>\n",
              "      <td>E.T. the Extra-Terrestrial (1982)</td>\n",
              "      <td>5</td>\n",
              "    </tr>\n",
              "    <tr>\n",
              "      <th>81252</th>\n",
              "      <td>788</td>\n",
              "      <td>Fluke (1995)</td>\n",
              "      <td>4</td>\n",
              "    </tr>\n",
              "  </tbody>\n",
              "</table>\n",
              "</div>\n",
              "    <div class=\"colab-df-buttons\">\n",
              "\n",
              "  <div class=\"colab-df-container\">\n",
              "    <button class=\"colab-df-convert\" onclick=\"convertToInteractive('df-0674cd17-f6da-4f01-995b-2f3f2b442d4a')\"\n",
              "            title=\"Convert this dataframe to an interactive table.\"\n",
              "            style=\"display:none;\">\n",
              "\n",
              "  <svg xmlns=\"http://www.w3.org/2000/svg\" height=\"24px\" viewBox=\"0 -960 960 960\">\n",
              "    <path d=\"M120-120v-720h720v720H120Zm60-500h600v-160H180v160Zm220 220h160v-160H400v160Zm0 220h160v-160H400v160ZM180-400h160v-160H180v160Zm440 0h160v-160H620v160ZM180-180h160v-160H180v160Zm440 0h160v-160H620v160Z\"/>\n",
              "  </svg>\n",
              "    </button>\n",
              "\n",
              "  <style>\n",
              "    .colab-df-container {\n",
              "      display:flex;\n",
              "      gap: 12px;\n",
              "    }\n",
              "\n",
              "    .colab-df-convert {\n",
              "      background-color: #E8F0FE;\n",
              "      border: none;\n",
              "      border-radius: 50%;\n",
              "      cursor: pointer;\n",
              "      display: none;\n",
              "      fill: #1967D2;\n",
              "      height: 32px;\n",
              "      padding: 0 0 0 0;\n",
              "      width: 32px;\n",
              "    }\n",
              "\n",
              "    .colab-df-convert:hover {\n",
              "      background-color: #E2EBFA;\n",
              "      box-shadow: 0px 1px 2px rgba(60, 64, 67, 0.3), 0px 1px 3px 1px rgba(60, 64, 67, 0.15);\n",
              "      fill: #174EA6;\n",
              "    }\n",
              "\n",
              "    .colab-df-buttons div {\n",
              "      margin-bottom: 4px;\n",
              "    }\n",
              "\n",
              "    [theme=dark] .colab-df-convert {\n",
              "      background-color: #3B4455;\n",
              "      fill: #D2E3FC;\n",
              "    }\n",
              "\n",
              "    [theme=dark] .colab-df-convert:hover {\n",
              "      background-color: #434B5C;\n",
              "      box-shadow: 0px 1px 3px 1px rgba(0, 0, 0, 0.15);\n",
              "      filter: drop-shadow(0px 1px 2px rgba(0, 0, 0, 0.3));\n",
              "      fill: #FFFFFF;\n",
              "    }\n",
              "  </style>\n",
              "\n",
              "    <script>\n",
              "      const buttonEl =\n",
              "        document.querySelector('#df-0674cd17-f6da-4f01-995b-2f3f2b442d4a button.colab-df-convert');\n",
              "      buttonEl.style.display =\n",
              "        google.colab.kernel.accessAllowed ? 'block' : 'none';\n",
              "\n",
              "      async function convertToInteractive(key) {\n",
              "        const element = document.querySelector('#df-0674cd17-f6da-4f01-995b-2f3f2b442d4a');\n",
              "        const dataTable =\n",
              "          await google.colab.kernel.invokeFunction('convertToInteractive',\n",
              "                                                    [key], {});\n",
              "        if (!dataTable) return;\n",
              "\n",
              "        const docLinkHtml = 'Like what you see? Visit the ' +\n",
              "          '<a target=\"_blank\" href=https://colab.research.google.com/notebooks/data_table.ipynb>data table notebook</a>'\n",
              "          + ' to learn more about interactive tables.';\n",
              "        element.innerHTML = '';\n",
              "        dataTable['output_type'] = 'display_data';\n",
              "        await google.colab.output.renderOutput(dataTable, element);\n",
              "        const docLink = document.createElement('div');\n",
              "        docLink.innerHTML = docLinkHtml;\n",
              "        element.appendChild(docLink);\n",
              "      }\n",
              "    </script>\n",
              "  </div>\n",
              "\n",
              "\n",
              "<div id=\"df-a0cd9bf8-c2d1-4f94-9620-6317a5fabd4a\">\n",
              "  <button class=\"colab-df-quickchart\" onclick=\"quickchart('df-a0cd9bf8-c2d1-4f94-9620-6317a5fabd4a')\"\n",
              "            title=\"Suggest charts\"\n",
              "            style=\"display:none;\">\n",
              "\n",
              "<svg xmlns=\"http://www.w3.org/2000/svg\" height=\"24px\"viewBox=\"0 0 24 24\"\n",
              "     width=\"24px\">\n",
              "    <g>\n",
              "        <path d=\"M19 3H5c-1.1 0-2 .9-2 2v14c0 1.1.9 2 2 2h14c1.1 0 2-.9 2-2V5c0-1.1-.9-2-2-2zM9 17H7v-7h2v7zm4 0h-2V7h2v10zm4 0h-2v-4h2v4z\"/>\n",
              "    </g>\n",
              "</svg>\n",
              "  </button>\n",
              "\n",
              "<style>\n",
              "  .colab-df-quickchart {\n",
              "      --bg-color: #E8F0FE;\n",
              "      --fill-color: #1967D2;\n",
              "      --hover-bg-color: #E2EBFA;\n",
              "      --hover-fill-color: #174EA6;\n",
              "      --disabled-fill-color: #AAA;\n",
              "      --disabled-bg-color: #DDD;\n",
              "  }\n",
              "\n",
              "  [theme=dark] .colab-df-quickchart {\n",
              "      --bg-color: #3B4455;\n",
              "      --fill-color: #D2E3FC;\n",
              "      --hover-bg-color: #434B5C;\n",
              "      --hover-fill-color: #FFFFFF;\n",
              "      --disabled-bg-color: #3B4455;\n",
              "      --disabled-fill-color: #666;\n",
              "  }\n",
              "\n",
              "  .colab-df-quickchart {\n",
              "    background-color: var(--bg-color);\n",
              "    border: none;\n",
              "    border-radius: 50%;\n",
              "    cursor: pointer;\n",
              "    display: none;\n",
              "    fill: var(--fill-color);\n",
              "    height: 32px;\n",
              "    padding: 0;\n",
              "    width: 32px;\n",
              "  }\n",
              "\n",
              "  .colab-df-quickchart:hover {\n",
              "    background-color: var(--hover-bg-color);\n",
              "    box-shadow: 0 1px 2px rgba(60, 64, 67, 0.3), 0 1px 3px 1px rgba(60, 64, 67, 0.15);\n",
              "    fill: var(--button-hover-fill-color);\n",
              "  }\n",
              "\n",
              "  .colab-df-quickchart-complete:disabled,\n",
              "  .colab-df-quickchart-complete:disabled:hover {\n",
              "    background-color: var(--disabled-bg-color);\n",
              "    fill: var(--disabled-fill-color);\n",
              "    box-shadow: none;\n",
              "  }\n",
              "\n",
              "  .colab-df-spinner {\n",
              "    border: 2px solid var(--fill-color);\n",
              "    border-color: transparent;\n",
              "    border-bottom-color: var(--fill-color);\n",
              "    animation:\n",
              "      spin 1s steps(1) infinite;\n",
              "  }\n",
              "\n",
              "  @keyframes spin {\n",
              "    0% {\n",
              "      border-color: transparent;\n",
              "      border-bottom-color: var(--fill-color);\n",
              "      border-left-color: var(--fill-color);\n",
              "    }\n",
              "    20% {\n",
              "      border-color: transparent;\n",
              "      border-left-color: var(--fill-color);\n",
              "      border-top-color: var(--fill-color);\n",
              "    }\n",
              "    30% {\n",
              "      border-color: transparent;\n",
              "      border-left-color: var(--fill-color);\n",
              "      border-top-color: var(--fill-color);\n",
              "      border-right-color: var(--fill-color);\n",
              "    }\n",
              "    40% {\n",
              "      border-color: transparent;\n",
              "      border-right-color: var(--fill-color);\n",
              "      border-top-color: var(--fill-color);\n",
              "    }\n",
              "    60% {\n",
              "      border-color: transparent;\n",
              "      border-right-color: var(--fill-color);\n",
              "    }\n",
              "    80% {\n",
              "      border-color: transparent;\n",
              "      border-right-color: var(--fill-color);\n",
              "      border-bottom-color: var(--fill-color);\n",
              "    }\n",
              "    90% {\n",
              "      border-color: transparent;\n",
              "      border-bottom-color: var(--fill-color);\n",
              "    }\n",
              "  }\n",
              "</style>\n",
              "\n",
              "  <script>\n",
              "    async function quickchart(key) {\n",
              "      const quickchartButtonEl =\n",
              "        document.querySelector('#' + key + ' button');\n",
              "      quickchartButtonEl.disabled = true;  // To prevent multiple clicks.\n",
              "      quickchartButtonEl.classList.add('colab-df-spinner');\n",
              "      try {\n",
              "        const charts = await google.colab.kernel.invokeFunction(\n",
              "            'suggestCharts', [key], {});\n",
              "      } catch (error) {\n",
              "        console.error('Error during call to suggestCharts:', error);\n",
              "      }\n",
              "      quickchartButtonEl.classList.remove('colab-df-spinner');\n",
              "      quickchartButtonEl.classList.add('colab-df-quickchart-complete');\n",
              "    }\n",
              "    (() => {\n",
              "      let quickchartButtonEl =\n",
              "        document.querySelector('#df-a0cd9bf8-c2d1-4f94-9620-6317a5fabd4a button');\n",
              "      quickchartButtonEl.style.display =\n",
              "        google.colab.kernel.accessAllowed ? 'block' : 'none';\n",
              "    })();\n",
              "  </script>\n",
              "</div>\n",
              "\n",
              "    </div>\n",
              "  </div>\n"
            ],
            "application/vnd.google.colaboratory.intrinsic+json": {
              "type": "dataframe",
              "summary": "{\n  \"name\": \"movies_and_ratings[(movies_and_ratings\",\n  \"rows\": 3,\n  \"fields\": [\n    {\n      \"column\": \"user_id\",\n      \"properties\": {\n        \"dtype\": \"number\",\n        \"std\": 0,\n        \"min\": 788,\n        \"max\": 788,\n        \"num_unique_values\": 1,\n        \"samples\": [\n          788\n        ],\n        \"semantic_type\": \"\",\n        \"description\": \"\"\n      }\n    },\n    {\n      \"column\": \"title\",\n      \"properties\": {\n        \"dtype\": \"string\",\n        \"num_unique_values\": 3,\n        \"samples\": [\n          \"Wizard of Oz, The (1939)\"\n        ],\n        \"semantic_type\": \"\",\n        \"description\": \"\"\n      }\n    },\n    {\n      \"column\": \"rating\",\n      \"properties\": {\n        \"dtype\": \"number\",\n        \"std\": 0,\n        \"min\": 4,\n        \"max\": 5,\n        \"num_unique_values\": 2,\n        \"samples\": [\n          4\n        ],\n        \"semantic_type\": \"\",\n        \"description\": \"\"\n      }\n    }\n  ]\n}"
            }
          },
          "metadata": {},
          "execution_count": 108
        }
      ]
    }
  ]
}